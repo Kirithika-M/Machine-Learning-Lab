{
  "nbformat": 4,
  "nbformat_minor": 0,
  "metadata": {
    "colab": {
      "provenance": [],
      "authorship_tag": "ABX9TyNH5hAw1Y91n3O2kV2dB970",
      "include_colab_link": true
    },
    "kernelspec": {
      "name": "python3",
      "display_name": "Python 3"
    },
    "language_info": {
      "name": "python"
    }
  },
  "cells": [
    {
      "cell_type": "markdown",
      "metadata": {
        "id": "view-in-github",
        "colab_type": "text"
      },
      "source": [
        "<a href=\"https://colab.research.google.com/github/Kirithika-M/Machine-Learning-Lab/blob/main/ML_Lab_08.ipynb\" target=\"_parent\"><img src=\"https://colab.research.google.com/assets/colab-badge.svg\" alt=\"Open In Colab\"/></a>"
      ]
    },
    {
      "cell_type": "markdown",
      "source": [
        "## Machine Learning - Experiment 9\n",
        "## Hidden Markov Models"
      ],
      "metadata": {
        "id": "tsmEm67I1fR5"
      }
    },
    {
      "cell_type": "code",
      "execution_count": 1,
      "metadata": {
        "colab": {
          "base_uri": "https://localhost:8080/"
        },
        "id": "duFGDFNl1Ogb",
        "outputId": "c1a8f738-323f-4249-93f0-2bc671962f1e"
      },
      "outputs": [
        {
          "output_type": "stream",
          "name": "stdout",
          "text": [
            "Collecting hmmlearn\n",
            "  Downloading hmmlearn-0.3.3-cp312-cp312-manylinux_2_17_x86_64.manylinux2014_x86_64.whl.metadata (3.0 kB)\n",
            "Requirement already satisfied: numpy>=1.10 in /usr/local/lib/python3.12/dist-packages (from hmmlearn) (2.0.2)\n",
            "Requirement already satisfied: scikit-learn!=0.22.0,>=0.16 in /usr/local/lib/python3.12/dist-packages (from hmmlearn) (1.6.1)\n",
            "Requirement already satisfied: scipy>=0.19 in /usr/local/lib/python3.12/dist-packages (from hmmlearn) (1.16.2)\n",
            "Requirement already satisfied: joblib>=1.2.0 in /usr/local/lib/python3.12/dist-packages (from scikit-learn!=0.22.0,>=0.16->hmmlearn) (1.5.2)\n",
            "Requirement already satisfied: threadpoolctl>=3.1.0 in /usr/local/lib/python3.12/dist-packages (from scikit-learn!=0.22.0,>=0.16->hmmlearn) (3.6.0)\n",
            "Downloading hmmlearn-0.3.3-cp312-cp312-manylinux_2_17_x86_64.manylinux2014_x86_64.whl (165 kB)\n",
            "\u001b[2K   \u001b[90m━━━━━━━━━━━━━━━━━━━━━━━━━━━━━━━━━━━━━━━━\u001b[0m \u001b[32m166.0/166.0 kB\u001b[0m \u001b[31m3.5 MB/s\u001b[0m eta \u001b[36m0:00:00\u001b[0m\n",
            "\u001b[?25hInstalling collected packages: hmmlearn\n",
            "Successfully installed hmmlearn-0.3.3\n"
          ]
        }
      ],
      "source": [
        "!pip install hmmlearn"
      ]
    },
    {
      "cell_type": "markdown",
      "source": [
        "#### Step 1 : Import the required libraries"
      ],
      "metadata": {
        "id": "bRR7wsr21vCh"
      }
    },
    {
      "cell_type": "code",
      "source": [
        "from hmmlearn import hmm\n",
        "import numpy as np"
      ],
      "metadata": {
        "id": "MCe8TSzv1owR"
      },
      "execution_count": 2,
      "outputs": []
    },
    {
      "cell_type": "markdown",
      "source": [
        "#### Step 2 : Mention the hidden states and observation symbols"
      ],
      "metadata": {
        "id": "2nvVj7_h14kC"
      }
    },
    {
      "cell_type": "code",
      "source": [
        "states = [\"Sunny\", \"Rainy\"]\n",
        "observations = [\"Walk\", \"Shop\", \"Clean\"]"
      ],
      "metadata": {
        "id": "swY9jvEo13i8"
      },
      "execution_count": 3,
      "outputs": []
    },
    {
      "cell_type": "markdown",
      "source": [
        "#### Step 3 : Define the Hidden Markov Model (HMM) Parameters"
      ],
      "metadata": {
        "id": "5Ad4YvhU2HDB"
      }
    },
    {
      "cell_type": "code",
      "source": [
        "start_prob = np.array([0.7, 0.3])\n",
        "trans_mat = np.array([[0.8, 0.2], [0.3, 0.7]])\n",
        "emit_mat = np.array([[0.6, 0.3, 0.1], [0.1, 0.4, 0.5]])"
      ],
      "metadata": {
        "id": "M1ha9CUX2GCp"
      },
      "execution_count": 4,
      "outputs": []
    },
    {
      "cell_type": "markdown",
      "source": [
        "#### Step 4 : Build the model"
      ],
      "metadata": {
        "id": "s1trbnk82hK3"
      }
    },
    {
      "cell_type": "code",
      "source": [
        "model = hmm.MultinomialHMM(n_components=2, n_iter=100)\n",
        "model.startprob_ = start_prob\n",
        "model.transmat_ = trans_mat\n",
        "model.emissionprob_ = emit_mat\n",
        "model.n_trials = 1    # one trail per observation"
      ],
      "metadata": {
        "colab": {
          "base_uri": "https://localhost:8080/"
        },
        "id": "QLIMw_EH2gmp",
        "outputId": "7a779988-8701-419a-fbe7-734d351742ad"
      },
      "execution_count": 10,
      "outputs": [
        {
          "output_type": "stream",
          "name": "stderr",
          "text": [
            "WARNING:hmmlearn.hmm:MultinomialHMM has undergone major changes. The previous version was implementing a CategoricalHMM (a special case of MultinomialHMM). This new implementation follows the standard definition for a Multinomial distribution (e.g. as in https://en.wikipedia.org/wiki/Multinomial_distribution). See these issues for details:\n",
            "https://github.com/hmmlearn/hmmlearn/issues/335\n",
            "https://github.com/hmmlearn/hmmlearn/issues/340\n"
          ]
        }
      ]
    },
    {
      "cell_type": "markdown",
      "source": [
        "#### Step 5 : Convert the observed sequence to one-hot representation"
      ],
      "metadata": {
        "id": "P7v84oh027vr"
      }
    },
    {
      "cell_type": "code",
      "source": [
        "# Observed sequence: Walk(0), Shop(1), Clean(2), Shop(1), Walk(0)\n",
        "# Convert to one-hot representation (n_samples x n_symbols)\n",
        "\n",
        "obs_seq = ([\n",
        "    [1, 0, 0],\n",
        "    [0, 1, 0],\n",
        "    [0, 0, 1],\n",
        "    [0, 1, 0],\n",
        "    [1, 0, 0]\n",
        "])"
      ],
      "metadata": {
        "id": "0RogtMXA2yy3"
      },
      "execution_count": 11,
      "outputs": []
    },
    {
      "cell_type": "markdown",
      "source": [
        "#### Step 6 : Decode (viterbi)"
      ],
      "metadata": {
        "id": "hf9p2k1c3aKr"
      }
    },
    {
      "cell_type": "code",
      "source": [
        "logprob, hidden_states = model.decode(obs_seq, algorithm=\"viterbi\")"
      ],
      "metadata": {
        "id": "eDOJpvmo3DGF"
      },
      "execution_count": 12,
      "outputs": []
    },
    {
      "cell_type": "markdown",
      "source": [
        "#### Step 7 : Print the observed sequence, most likely hidden states and log probability"
      ],
      "metadata": {
        "id": "9OptrRr43sJr"
      }
    },
    {
      "cell_type": "code",
      "source": [
        "print(\"Observed sequence:\", [observations[np.argmax(o)] for o in obs_seq])\n",
        "print(\"Most likely hidden states:\", [states[i] for i in hidden_states])\n",
        "print(\"Log probability:\", logprob)"
      ],
      "metadata": {
        "colab": {
          "base_uri": "https://localhost:8080/"
        },
        "id": "maz-k4eH3ke8",
        "outputId": "f733abc0-b16a-4f57-91b6-8702da2da445"
      },
      "execution_count": 13,
      "outputs": [
        {
          "output_type": "stream",
          "name": "stdout",
          "text": [
            "Observed sequence: ['Walk', 'Shop', 'Clean', 'Shop', 'Walk']\n",
            "Most likely hidden states: ['Sunny', 'Sunny', 'Sunny', 'Sunny', 'Sunny']\n",
            "Log probability: -6.98143109837347\n"
          ]
        }
      ]
    }
  ]
}