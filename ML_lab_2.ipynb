{
  "nbformat": 4,
  "nbformat_minor": 0,
  "metadata": {
    "colab": {
      "provenance": [],
      "authorship_tag": "ABX9TyMaazZ44uTo5kSfBS/fLN82",
      "include_colab_link": true
    },
    "kernelspec": {
      "name": "python3",
      "display_name": "Python 3"
    },
    "language_info": {
      "name": "python"
    }
  },
  "cells": [
    {
      "cell_type": "markdown",
      "metadata": {
        "id": "view-in-github",
        "colab_type": "text"
      },
      "source": [
        "<a href=\"https://colab.research.google.com/github/Kirithika-M/Machine-Learning-Lab/blob/main/ML_lab_2.ipynb\" target=\"_parent\"><img src=\"https://colab.research.google.com/assets/colab-badge.svg\" alt=\"Open In Colab\"/></a>"
      ]
    },
    {
      "cell_type": "markdown",
      "source": [
        "## Experiment 3 : Linear Regression"
      ],
      "metadata": {
        "id": "jffEET6CPKcu"
      }
    },
    {
      "cell_type": "markdown",
      "source": [
        "#### Step 1 : Import all the libraries and read the dataset"
      ],
      "metadata": {
        "id": "uaa5ICALasgP"
      }
    },
    {
      "cell_type": "code",
      "execution_count": 9,
      "metadata": {
        "id": "y7547xeeO1CS"
      },
      "outputs": [],
      "source": [
        "import numpy as np\n",
        "import pandas as pd\n",
        "from sklearn.metrics import mean_absolute_error, mean_squared_error\n",
        "import matplotlib.pyplot as plt\n",
        "from sklearn.model_selection import train_test_split\n",
        "from sklearn.linear_model import LinearRegression"
      ]
    },
    {
      "cell_type": "code",
      "source": [
        "dataset = pd.read_csv(\"/content/student_scores (2).csv\")\n",
        "print(f\"Head: \\n{dataset.head()}\")\n",
        "print()\n",
        "print(f\"Tail: \\n{dataset.tail()}\")"
      ],
      "metadata": {
        "colab": {
          "base_uri": "https://localhost:8080/"
        },
        "id": "VQ3bi9W3P_Da",
        "outputId": "86a88c4c-0951-4661-c193-09a29945eb5b"
      },
      "execution_count": 7,
      "outputs": [
        {
          "output_type": "stream",
          "name": "stdout",
          "text": [
            "Head: \n",
            "   Hours  Scores\n",
            "0    2.5      21\n",
            "1    5.1      47\n",
            "2    3.2      27\n",
            "3    8.5      75\n",
            "4    3.5      30\n",
            "\n",
            "Tail: \n",
            "    Hours  Scores\n",
            "20    2.7      30\n",
            "21    4.8      54\n",
            "22    3.8      35\n",
            "23    6.9      76\n",
            "24    7.8      86\n"
          ]
        }
      ]
    },
    {
      "cell_type": "markdown",
      "source": [
        "#### Step 2 : Analyze the data and do preprocessing if required"
      ],
      "metadata": {
        "id": "l5DfTd28bVvY"
      }
    },
    {
      "cell_type": "code",
      "source": [
        "dataset.info()"
      ],
      "metadata": {
        "colab": {
          "base_uri": "https://localhost:8080/"
        },
        "id": "UYk0dhHkS4BJ",
        "outputId": "b2df4528-39d1-4305-8afd-caa50f56c878"
      },
      "execution_count": 8,
      "outputs": [
        {
          "output_type": "stream",
          "name": "stdout",
          "text": [
            "<class 'pandas.core.frame.DataFrame'>\n",
            "RangeIndex: 25 entries, 0 to 24\n",
            "Data columns (total 2 columns):\n",
            " #   Column  Non-Null Count  Dtype  \n",
            "---  ------  --------------  -----  \n",
            " 0   Hours   25 non-null     float64\n",
            " 1   Scores  25 non-null     int64  \n",
            "dtypes: float64(1), int64(1)\n",
            "memory usage: 532.0 bytes\n"
          ]
        }
      ]
    },
    {
      "cell_type": "markdown",
      "source": [
        "#### Step 3  : Analyze the input and output features"
      ],
      "metadata": {
        "id": "44JewkgvbdUP"
      }
    },
    {
      "cell_type": "code",
      "source": [
        "# Assigning hours to X & scores to Y\n",
        "X = dataset.iloc[:,:-1].values\n",
        "print(X)\n",
        "\n",
        "Y = dataset.iloc[:,-1].values\n",
        "print(Y)"
      ],
      "metadata": {
        "colab": {
          "base_uri": "https://localhost:8080/"
        },
        "id": "BHzBkk7oTzCo",
        "outputId": "5eea0ce6-84ab-47cc-f8fa-d961f8a1b825"
      },
      "execution_count": 13,
      "outputs": [
        {
          "output_type": "stream",
          "name": "stdout",
          "text": [
            "[[2.5]\n",
            " [5.1]\n",
            " [3.2]\n",
            " [8.5]\n",
            " [3.5]\n",
            " [1.5]\n",
            " [9.2]\n",
            " [5.5]\n",
            " [8.3]\n",
            " [2.7]\n",
            " [7.7]\n",
            " [5.9]\n",
            " [4.5]\n",
            " [3.3]\n",
            " [1.1]\n",
            " [8.9]\n",
            " [2.5]\n",
            " [1.9]\n",
            " [6.1]\n",
            " [7.4]\n",
            " [2.7]\n",
            " [4.8]\n",
            " [3.8]\n",
            " [6.9]\n",
            " [7.8]]\n",
            "[21 47 27 75 30 20 88 60 81 25 85 62 41 42 17 95 30 24 67 69 30 54 35 76\n",
            " 86]\n"
          ]
        }
      ]
    },
    {
      "cell_type": "markdown",
      "source": [
        "#### Step 4 : Split your data into training data and testing data"
      ],
      "metadata": {
        "id": "XFmVR8p9bnzf"
      }
    },
    {
      "cell_type": "code",
      "source": [
        "from sklearn.model_selection import train_test_split\n",
        "X_train, X_test, Y_train, Y_test = train_test_split(X, Y, test_size=1/3, random_state=0)\n",
        "\n",
        "print(f\"X_train : \\n{X_train}\")\n",
        "print()\n",
        "\n",
        "print(f\"X_test : \\n{X_test}\")\n",
        "print()\n",
        "\n",
        "print(f\"Y_train: \\n{Y_train}\")\n",
        "print()\n",
        "\n",
        "print(f\"Y_test : \\n{Y_test}\")\n",
        "print()"
      ],
      "metadata": {
        "colab": {
          "base_uri": "https://localhost:8080/"
        },
        "id": "GnURidLSVqVy",
        "outputId": "3eb4ef88-8bf5-468f-810e-88743d4a7d2b"
      },
      "execution_count": 16,
      "outputs": [
        {
          "output_type": "stream",
          "name": "stdout",
          "text": [
            "X_train : \n",
            "[[1.1]\n",
            " [5.1]\n",
            " [7.7]\n",
            " [3.3]\n",
            " [8.3]\n",
            " [9.2]\n",
            " [6.1]\n",
            " [3.5]\n",
            " [2.7]\n",
            " [5.5]\n",
            " [2.7]\n",
            " [8.5]\n",
            " [2.5]\n",
            " [4.8]\n",
            " [8.9]\n",
            " [4.5]]\n",
            "\n",
            "X_test : \n",
            "[[1.5]\n",
            " [3.2]\n",
            " [7.4]\n",
            " [2.5]\n",
            " [5.9]\n",
            " [3.8]\n",
            " [1.9]\n",
            " [7.8]\n",
            " [6.9]]\n",
            "\n",
            "Y_train: \n",
            "[17 47 85 42 81 88 67 30 25 60 30 75 21 54 95 41]\n",
            "\n",
            "Y_test : \n",
            "[20 27 69 30 62 35 24 86 76]\n",
            "\n"
          ]
        }
      ]
    },
    {
      "cell_type": "code",
      "source": [
        "print(X_train.shape)"
      ],
      "metadata": {
        "colab": {
          "base_uri": "https://localhost:8080/"
        },
        "id": "BkA5fuRnZfrI",
        "outputId": "5373ac63-affa-4ae5-a898-72207b4b6952"
      },
      "execution_count": 17,
      "outputs": [
        {
          "output_type": "stream",
          "name": "stdout",
          "text": [
            "(16, 1)\n"
          ]
        }
      ]
    },
    {
      "cell_type": "code",
      "source": [
        "print(X_test.shape)"
      ],
      "metadata": {
        "colab": {
          "base_uri": "https://localhost:8080/"
        },
        "id": "pg7QxBJWaEk-",
        "outputId": "4cab8dfa-dfea-4a6f-a86c-31179f679b79"
      },
      "execution_count": 18,
      "outputs": [
        {
          "output_type": "stream",
          "name": "stdout",
          "text": [
            "(9, 1)\n"
          ]
        }
      ]
    },
    {
      "cell_type": "code",
      "source": [
        "print(Y_train.shape)"
      ],
      "metadata": {
        "colab": {
          "base_uri": "https://localhost:8080/"
        },
        "id": "VYTnN4bbaRYm",
        "outputId": "dcd849bb-7f88-474f-8f1c-9ef444879585"
      },
      "execution_count": 19,
      "outputs": [
        {
          "output_type": "stream",
          "name": "stdout",
          "text": [
            "(16,)\n"
          ]
        }
      ]
    },
    {
      "cell_type": "code",
      "source": [
        "print(Y_test.shape)"
      ],
      "metadata": {
        "colab": {
          "base_uri": "https://localhost:8080/"
        },
        "id": "V0VDJeuBaT2-",
        "outputId": "daad5c62-c9d6-4f1f-9ba2-ed6b069e9621"
      },
      "execution_count": 20,
      "outputs": [
        {
          "output_type": "stream",
          "name": "stdout",
          "text": [
            "(9,)\n"
          ]
        }
      ]
    },
    {
      "cell_type": "markdown",
      "source": [
        "#### Step 5 : Use appropriate algorithm for training"
      ],
      "metadata": {
        "id": "FH714-7VcS4A"
      }
    },
    {
      "cell_type": "code",
      "source": [
        "from sklearn.linear_model import LinearRegression\n",
        "\n",
        "reg = LinearRegression()    # Supervised Machine Learning\n",
        "reg.fit(X_train, Y_train)   # fit() is the training command"
      ],
      "metadata": {
        "colab": {
          "base_uri": "https://localhost:8080/"
        },
        "id": "Yxj01-2HaWoG",
        "outputId": "8c16293f-89ae-4091-ce57-61a4f989b67d"
      },
      "execution_count": 21,
      "outputs": [
        {
          "output_type": "stream",
          "name": "stdout",
          "text": [
            "[17.04289179 33.51695377 74.21757747 26.73351648 59.68164043 39.33132858\n",
            " 20.91914167 78.09382734 69.37226512]\n",
            "[20 27 69 30 62 35 24 86 76]\n"
          ]
        }
      ]
    },
    {
      "cell_type": "markdown",
      "source": [
        "#### Step 6 : Predict using the developed model"
      ],
      "metadata": {
        "id": "W-mIp5QnciqP"
      }
    },
    {
      "cell_type": "code",
      "source": [
        "# Prediction\n",
        "Y_pred = reg.predict(X_test)\n",
        "\n",
        "print(Y_pred)\n",
        "print(Y_test)"
      ],
      "metadata": {
        "colab": {
          "base_uri": "https://localhost:8080/"
        },
        "id": "T8xmxDALchBQ",
        "outputId": "b9472da9-502f-4323-f6de-0051c3b44c5b"
      },
      "execution_count": 24,
      "outputs": [
        {
          "output_type": "stream",
          "name": "stdout",
          "text": [
            "[17.04289179 33.51695377 74.21757747 26.73351648 59.68164043 39.33132858\n",
            " 20.91914167 78.09382734 69.37226512]\n",
            "[20 27 69 30 62 35 24 86 76]\n"
          ]
        }
      ]
    },
    {
      "cell_type": "markdown",
      "source": [
        "#### Step 7 : Evaluate the performance metrics"
      ],
      "metadata": {
        "id": "CtTeWopAcoRQ"
      }
    },
    {
      "cell_type": "code",
      "source": [
        "mse = mean_squared_error(Y_test, Y_pred)\n",
        "print(\"MSE = \",mse)\n",
        "\n",
        "mae = mean_absolute_error(Y_test, Y_pred)\n",
        "print(\"MAE = \",mae)\n",
        "\n",
        "rmse = np.sqrt(mse)\n",
        "print(\"RMSE = \",rmse)"
      ],
      "metadata": {
        "colab": {
          "base_uri": "https://localhost:8080/"
        },
        "id": "HKNZRA4vbPeY",
        "outputId": "67df37c3-c1d0-46a0-b7ed-4d84db44d62f"
      },
      "execution_count": 23,
      "outputs": [
        {
          "output_type": "stream",
          "name": "stdout",
          "text": [
            "MSE =  25.463280738222593\n",
            "MAE =  4.691397441397446\n",
            "RMSE =  5.046115410711748\n"
          ]
        }
      ]
    }
  ]
}