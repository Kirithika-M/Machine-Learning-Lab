{
  "nbformat": 4,
  "nbformat_minor": 0,
  "metadata": {
    "colab": {
      "provenance": [],
      "authorship_tag": "ABX9TyO5JG62JlqRGXSXxAC7oqnw",
      "include_colab_link": true
    },
    "kernelspec": {
      "name": "python3",
      "display_name": "Python 3"
    },
    "language_info": {
      "name": "python"
    }
  },
  "cells": [
    {
      "cell_type": "markdown",
      "metadata": {
        "id": "view-in-github",
        "colab_type": "text"
      },
      "source": [
        "<a href=\"https://colab.research.google.com/github/Kirithika-M/Machine-Learning-Lab/blob/main/ML_lab_0.ipynb\" target=\"_parent\"><img src=\"https://colab.research.google.com/assets/colab-badge.svg\" alt=\"Open In Colab\"/></a>"
      ]
    },
    {
      "cell_type": "code",
      "source": [
        "!pip install sympy"
      ],
      "metadata": {
        "colab": {
          "base_uri": "https://localhost:8080/"
        },
        "id": "K1GnWkl0TEnw",
        "outputId": "7f0709fc-4d90-4483-f4ff-ab89ffd4ba6e"
      },
      "execution_count": null,
      "outputs": [
        {
          "output_type": "stream",
          "name": "stdout",
          "text": [
            "Requirement already satisfied: sympy in /usr/local/lib/python3.11/dist-packages (1.13.1)\n",
            "Requirement already satisfied: mpmath<1.4,>=1.1.0 in /usr/local/lib/python3.11/dist-packages (from sympy) (1.3.0)\n"
          ]
        }
      ]
    },
    {
      "cell_type": "markdown",
      "source": [
        "## Machine Learning - Lab"
      ],
      "metadata": {
        "id": "hP0OblEvFU9C"
      }
    },
    {
      "cell_type": "code",
      "source": [
        "# Qn 1\n",
        "a = int(input(\"a: \"))\n",
        "b = int(input(\"b: \"))\n",
        "\n",
        "sum = a + b\n",
        "\n",
        "print(f\"Sum of {a} and {b} is {sum}\")"
      ],
      "metadata": {
        "colab": {
          "base_uri": "https://localhost:8080/"
        },
        "id": "w1g_bidXFXfJ",
        "outputId": "71226812-9626-4209-b444-70f3dd6ba7af"
      },
      "execution_count": null,
      "outputs": [
        {
          "output_type": "stream",
          "name": "stdout",
          "text": [
            "a: 5\n",
            "b: 10\n",
            "Sum of 5 and 10 is 15\n"
          ]
        }
      ]
    },
    {
      "cell_type": "code",
      "source": [
        "# Qn 2\n",
        "num = int(input(\"Number: \"))\n",
        "\n",
        "if num % 2 == 0:\n",
        "  print(f\"{num} is an even number\")\n",
        "else:\n",
        "  print(f\"{num} is an odd number\")"
      ],
      "metadata": {
        "colab": {
          "base_uri": "https://localhost:8080/"
        },
        "id": "acJCzGbGHa4I",
        "outputId": "ca3c0c70-3dbd-480f-ddc5-5a1c8c86beaa"
      },
      "execution_count": null,
      "outputs": [
        {
          "output_type": "stream",
          "name": "stdout",
          "text": [
            "Number: 5\n",
            "5 is an odd number\n"
          ]
        }
      ]
    },
    {
      "cell_type": "code",
      "source": [
        "# Qn 3\n",
        "import sympy\n",
        "import sys\n",
        "\n",
        "num = int(input(\"Number: \"))\n",
        "result = False\n",
        "if num == 1:\n",
        "  print(f\"{num} is neither prime nor composite\")\n",
        "  sys.exit()\n",
        "else:\n",
        "  result = sympy.isprime(num)\n",
        "\n",
        "if result == True:\n",
        "  print(f\"{num} is a prime number\")\n",
        "else:\n",
        "  print(f\"{num} is not a prime number\")\n"
      ],
      "metadata": {
        "colab": {
          "base_uri": "https://localhost:8080/"
        },
        "id": "J6-bIWDpHsEB",
        "outputId": "3979c507-a5c0-4363-90eb-57a41e5e4965"
      },
      "execution_count": null,
      "outputs": [
        {
          "output_type": "stream",
          "name": "stdout",
          "text": [
            "Number: 2\n",
            "2 is a prime number\n"
          ]
        }
      ]
    },
    {
      "cell_type": "code",
      "source": [
        "# Qn 4\n",
        "\n",
        "num_list = list()\n",
        "max_num = 0\n",
        "\n",
        "for i in range(4):\n",
        "  num = int(input(\"Number: \"))\n",
        "  num_list.append(num)\n",
        "\n",
        "for i in range(4):\n",
        "  if num_list[i] > max_num:\n",
        "    max_num = num_list[i]\n",
        "\n",
        "print(f\"Largest value: {max_num}\")"
      ],
      "metadata": {
        "colab": {
          "base_uri": "https://localhost:8080/"
        },
        "id": "z4nTlFzwIZ3t",
        "outputId": "9603f7f9-e773-49ff-cfcb-823b17adec7a"
      },
      "execution_count": null,
      "outputs": [
        {
          "output_type": "stream",
          "name": "stdout",
          "text": [
            "Number: 5\n",
            "Number: 10\n",
            "Number: 25\n",
            "Number: 20\n",
            "Largest value: 25\n"
          ]
        }
      ]
    },
    {
      "cell_type": "code",
      "source": [
        "# Qn 5\n",
        "\n",
        "def fact(n):\n",
        "  if n == 1:\n",
        "    return 1\n",
        "  else:\n",
        "    return n * fact(n - 1)\n",
        "\n",
        "num = int(input(\"Number: \"))\n",
        "fact_num = fact(num)\n",
        "\n",
        "print(f\"{num}! = {fact_num}\")"
      ],
      "metadata": {
        "colab": {
          "base_uri": "https://localhost:8080/"
        },
        "id": "JZn09mjoJVvz",
        "outputId": "ca49f4ea-a701-437b-c7c1-bcfd08033209"
      },
      "execution_count": null,
      "outputs": [
        {
          "output_type": "stream",
          "name": "stdout",
          "text": [
            "Number: 6\n",
            "6! = 720\n"
          ]
        }
      ]
    },
    {
      "cell_type": "code",
      "source": [
        "# Qn 6\n",
        "\n",
        "num = int(input(\"Number: \"))\n",
        "value = num\n",
        "reversed_num = 0\n",
        "\n",
        "while num > 0:\n",
        "  digit = num % 10\n",
        "  reversed_num = reversed_num * 10 + digit\n",
        "  num //= 10\n",
        "\n",
        "print(f\"Original number: {value}\")\n",
        "print(f\"Reversed number: {reversed_num}\")"
      ],
      "metadata": {
        "colab": {
          "base_uri": "https://localhost:8080/"
        },
        "id": "kybT7AG1KA2T",
        "outputId": "bf5d5230-362a-4bb3-eea1-24a04e8fa66d"
      },
      "execution_count": null,
      "outputs": [
        {
          "output_type": "stream",
          "name": "stdout",
          "text": [
            "Number: 74743\n",
            "Original number: 74743\n",
            "Reversed number: 34747\n"
          ]
        }
      ]
    },
    {
      "cell_type": "code",
      "source": [
        "# Qn 7\n",
        "\n",
        "def main():\n",
        "  original_text = input(\"Text: \")\n",
        "  text = original_text\n",
        "  original_text = original_text.lower()\n",
        "  reversed_text = reverse_string(original_text)\n",
        "\n",
        "  if original_text == reversed_text:\n",
        "    print(f\"{text} is a palindrome\")\n",
        "  else:\n",
        "    print(f\"{original_text} is not a palindrome\")\n",
        "\n",
        "\n",
        "\n",
        "def reverse_string(text):\n",
        "  reversed_text = text[::-1]\n",
        "  return reversed_text\n",
        "\n",
        "\n",
        "main()"
      ],
      "metadata": {
        "colab": {
          "base_uri": "https://localhost:8080/"
        },
        "id": "sY9vZRY-Lp6r",
        "outputId": "f44e1d9b-f2c0-4866-ab98-a9363c2bf829"
      },
      "execution_count": null,
      "outputs": [
        {
          "output_type": "stream",
          "name": "stdout",
          "text": [
            "Text: hello\n",
            "hello is not a palindrome\n"
          ]
        }
      ]
    },
    {
      "cell_type": "code",
      "source": [
        "# Qn 8\n",
        "\n",
        "num = int(input(\"Number: \"))\n",
        "\n",
        "num_str = str(num)\n",
        "\n",
        "digits = [int(digit) for digit in num_str]\n",
        "\n",
        "sum = 0\n",
        "for i in digits:\n",
        "  sum += int(i)\n",
        "\n",
        "print(f\"Sum of digits of {num} is {sum}\")"
      ],
      "metadata": {
        "colab": {
          "base_uri": "https://localhost:8080/"
        },
        "id": "AAk6fJvBMLo0",
        "outputId": "27fe30f1-c8ba-4332-8a55-055b3553f079"
      },
      "execution_count": null,
      "outputs": [
        {
          "output_type": "stream",
          "name": "stdout",
          "text": [
            "Number: 123455\n",
            "Sum of digits of 123455 is 20\n"
          ]
        }
      ]
    },
    {
      "cell_type": "code",
      "source": [
        "# Qn 9\n",
        "\n",
        "num = int(input(\"Number: \"))\n",
        "\n",
        "for i in range(1, 13, 1):\n",
        "  result = num * i\n",
        "  print(f\"{num} x {i} = {result}\")"
      ],
      "metadata": {
        "colab": {
          "base_uri": "https://localhost:8080/"
        },
        "id": "cwH5h-_pO7XH",
        "outputId": "1cc45608-a335-435a-dc41-ed6d80dbe844"
      },
      "execution_count": null,
      "outputs": [
        {
          "output_type": "stream",
          "name": "stdout",
          "text": [
            "Number: 9\n",
            "9 x 1 = 9\n",
            "9 x 2 = 18\n",
            "9 x 3 = 27\n",
            "9 x 4 = 36\n",
            "9 x 5 = 45\n",
            "9 x 6 = 54\n",
            "9 x 7 = 63\n",
            "9 x 8 = 72\n",
            "9 x 9 = 81\n",
            "9 x 10 = 90\n",
            "9 x 11 = 99\n",
            "9 x 12 = 108\n"
          ]
        }
      ]
    },
    {
      "cell_type": "code",
      "source": [
        "# Qn 10\n",
        "\n",
        "def addition(a, b):\n",
        "  return a + b\n",
        "\n",
        "\n",
        "def subtraction(a, b):\n",
        "  return a - b\n",
        "\n",
        "\n",
        "def multiplication(a, b):\n",
        "  return a * b\n",
        "\n",
        "\n",
        "def division(a, b):\n",
        "  return a / b\n",
        "\n",
        "\n",
        "num_1 = int(input(\"Number 1: \"))\n",
        "num_2 = int(input(\"Number 2: \"))\n",
        "\n",
        "sum = addition(num_1, num_2)\n",
        "difference = subtraction(num_1, num_2)\n",
        "product = multiplication(num_1, num_2)\n",
        "quotient = division(num_1, num_2)\n",
        "\n",
        "print(f\"{num_1} + {num_2} = {sum}\")\n",
        "print(f\"{num_1} - {num_2} = {difference}\")\n",
        "print(f\"{num_1} * {num_2} = {product}\")\n",
        "print(f\"{num_1} / {num_2} = {quotient}\")"
      ],
      "metadata": {
        "colab": {
          "base_uri": "https://localhost:8080/"
        },
        "id": "T4x93TaqP1tv",
        "outputId": "71337b4a-3c8e-4ac8-c3b8-88386a923660"
      },
      "execution_count": null,
      "outputs": [
        {
          "output_type": "stream",
          "name": "stdout",
          "text": [
            "Number 1: 574\n",
            "Number 2: 48\n",
            "574 + 48 = 622\n",
            "574 - 48 = 526\n",
            "574 * 48 = 27552\n",
            "574 / 48 = 11.958333333333334\n"
          ]
        }
      ]
    },
    {
      "cell_type": "code",
      "source": [
        "# Qn 11\n",
        "\n",
        "num = int(input(\"Number: \"))\n",
        "\n",
        "for i in range(1, (num + 1), 1):\n",
        "  print(\"*\" * i)"
      ],
      "metadata": {
        "colab": {
          "base_uri": "https://localhost:8080/"
        },
        "id": "Eb6MUa6fRCrJ",
        "outputId": "c18cdb7e-5992-40bd-97fe-125dcf729796"
      },
      "execution_count": null,
      "outputs": [
        {
          "output_type": "stream",
          "name": "stdout",
          "text": [
            "Number: 5\n",
            "*\n",
            "**\n",
            "***\n",
            "****\n",
            "*****\n"
          ]
        }
      ]
    }
  ]
}