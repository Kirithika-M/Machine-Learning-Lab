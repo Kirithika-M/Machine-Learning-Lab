{
  "nbformat": 4,
  "nbformat_minor": 0,
  "metadata": {
    "colab": {
      "provenance": [],
      "authorship_tag": "ABX9TyP328gFub+3YTG6jnNa1B2R",
      "include_colab_link": true
    },
    "kernelspec": {
      "name": "python3",
      "display_name": "Python 3"
    },
    "language_info": {
      "name": "python"
    }
  },
  "cells": [
    {
      "cell_type": "markdown",
      "metadata": {
        "id": "view-in-github",
        "colab_type": "text"
      },
      "source": [
        "<a href=\"https://colab.research.google.com/github/Kirithika-M/Machine-Learning-Lab/blob/main/ML_Lab_05.ipynb\" target=\"_parent\"><img src=\"https://colab.research.google.com/assets/colab-badge.svg\" alt=\"Open In Colab\"/></a>"
      ]
    },
    {
      "cell_type": "markdown",
      "source": [
        "## Machine Learning - Experiment 6\n",
        "## k - Means Clustering"
      ],
      "metadata": {
        "id": "7tnYaY4pVqyB"
      }
    },
    {
      "cell_type": "markdown",
      "source": [
        "####  Import all the libraries and read the dataset"
      ],
      "metadata": {
        "id": "5orO9GBQWDAg"
      }
    },
    {
      "cell_type": "code",
      "execution_count": null,
      "metadata": {
        "id": "-lFxc_RIVhWl"
      },
      "outputs": [],
      "source": [
        "import pandas as pd\n",
        "from sklearn.cluster import KMeans\n",
        "import matplotlib.pyplot as plt\n",
        "from sklearn.datasets import load_iris\n",
        "from sklearn.metrics import confusion_matrix, accuracy_score, ConfusionMatrixDisplay"
      ]
    },
    {
      "cell_type": "code",
      "source": [
        "# Load the inbuilt Iris dataset\n",
        "iris = load_iris()\n",
        "x = iris.data\n",
        "y = iris.target   # Actual Labels"
      ],
      "metadata": {
        "id": "jAGy0JCtXOmp"
      },
      "execution_count": null,
      "outputs": []
    },
    {
      "cell_type": "markdown",
      "source": [
        "#### Use the appropriate algorithm for clustering"
      ],
      "metadata": {
        "id": "TLQRPhrdXtn1"
      }
    },
    {
      "cell_type": "code",
      "source": [
        "k_means = KMeans(n_clusters=3, random_state=42)\n",
        "y_kmeans = k_means.fit_predict(x)"
      ],
      "metadata": {
        "id": "KGmpPwGmXnsD"
      },
      "execution_count": null,
      "outputs": []
    },
    {
      "cell_type": "markdown",
      "source": [
        "#### Create DataFrame for training"
      ],
      "metadata": {
        "id": "okIyJMqbYEIO"
      }
    },
    {
      "cell_type": "code",
      "source": [
        "df = pd.DataFrame(x, columns=iris.feature_names)\n",
        "df['Actual'] = y\n",
        "df['Cluster'] = y_kmeans"
      ],
      "metadata": {
        "id": "H4Oy6WwXYBZ2"
      },
      "execution_count": null,
      "outputs": []
    },
    {
      "cell_type": "code",
      "source": [
        "print(\"Cluster Centers:\\n\", k_means.cluster_centers_)\n",
        "print(\"\\nSample Clustered Data:\\n\", df.head())"
      ],
      "metadata": {
        "colab": {
          "base_uri": "https://localhost:8080/"
        },
        "id": "Uj1QKhpRYWj-",
        "outputId": "46c850dd-0e88-4963-9504-cff469f8d8cb"
      },
      "execution_count": null,
      "outputs": [
        {
          "output_type": "stream",
          "name": "stdout",
          "text": [
            "Cluster Centers:\n",
            " [[6.85384615 3.07692308 5.71538462 2.05384615]\n",
            " [5.006      3.428      1.462      0.246     ]\n",
            " [5.88360656 2.74098361 4.38852459 1.43442623]]\n",
            "\n",
            "Sample Clustered Data:\n",
            "    sepal length (cm)  sepal width (cm)  petal length (cm)  petal width (cm)  \\\n",
            "0                5.1               3.5                1.4               0.2   \n",
            "1                4.9               3.0                1.4               0.2   \n",
            "2                4.7               3.2                1.3               0.2   \n",
            "3                4.6               3.1                1.5               0.2   \n",
            "4                5.0               3.6                1.4               0.2   \n",
            "\n",
            "   Actual  Cluster  \n",
            "0       0        1  \n",
            "1       0        1  \n",
            "2       0        1  \n",
            "3       0        1  \n",
            "4       0        1  \n"
          ]
        }
      ]
    },
    {
      "cell_type": "code",
      "source": [
        "# Evaluate clustering (note: cluster labels may not match true labels directly)\n",
        "cm = confusion_matrix(y, y_kmeans)\n",
        "print(\"\\nConfusion Matrix:\\n\", cm)"
      ],
      "metadata": {
        "colab": {
          "base_uri": "https://localhost:8080/"
        },
        "id": "E3gtiALqYmqE",
        "outputId": "8d75160c-04a2-4874-e4f6-e72500c11e30"
      },
      "execution_count": null,
      "outputs": [
        {
          "output_type": "stream",
          "name": "stdout",
          "text": [
            "\n",
            "Confusion Matrix:\n",
            " [[ 0 50  0]\n",
            " [ 3  0 47]\n",
            " [36  0 14]]\n"
          ]
        }
      ]
    },
    {
      "cell_type": "code",
      "source": [
        "# Evaluate accuracy\n",
        "accuracy = accuracy_score(y, y_kmeans)\n",
        "print(f\"Accuracy: {accuracy}\")"
      ],
      "metadata": {
        "colab": {
          "base_uri": "https://localhost:8080/"
        },
        "id": "n1IrE5QAaoaj",
        "outputId": "74853ddd-574d-4722-bc98-d45f5114ad04"
      },
      "execution_count": null,
      "outputs": [
        {
          "output_type": "stream",
          "name": "stdout",
          "text": [
            "Accuracy: 0.09333333333333334\n"
          ]
        }
      ]
    },
    {
      "cell_type": "code",
      "source": [
        "# Display the confusion matrix\n",
        "display = ConfusionMatrixDisplay(confusion_matrix=cm)\n",
        "display.plot()\n",
        "plt.title(\"Confusion Matrix for k-means clustering\")\n",
        "plt.show()"
      ],
      "metadata": {
        "colab": {
          "base_uri": "https://localhost:8080/",
          "height": 472
        },
        "id": "xIxjUuTuZaIc",
        "outputId": "25cdf99f-d785-460b-fd2a-2af9638a0a74"
      },
      "execution_count": null,
      "outputs": [
        {
          "output_type": "display_data",
          "data": {
            "text/plain": [
              "<Figure size 640x480 with 2 Axes>"
            ],
            "image/png": "[encoded data removed]"
          },
          "metadata": {}
        }
      ]
    }
  ]
}