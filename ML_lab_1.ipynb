{
  "nbformat": 4,
  "nbformat_minor": 0,
  "metadata": {
    "colab": {
      "provenance": [],
      "authorship_tag": "ABX9TyMfzFhbot/2iai6zgDMFZOg",
      "include_colab_link": true
    },
    "kernelspec": {
      "name": "python3",
      "display_name": "Python 3"
    },
    "language_info": {
      "name": "python"
    }
  },
  "cells": [
    {
      "cell_type": "markdown",
      "metadata": {
        "id": "view-in-github",
        "colab_type": "text"
      },
      "source": [
        "<a href=\"https://colab.research.google.com/github/Kirithika-M/Machine-Learning-Lab/blob/main/ML_lab_1.ipynb\" target=\"_parent\"><img src=\"https://colab.research.google.com/assets/colab-badge.svg\" alt=\"Open In Colab\"/></a>"
      ]
    },
    {
      "cell_type": "markdown",
      "source": [
        "## ML Lab 1 : Program to import, load, and view a dataset"
      ],
      "metadata": {
        "id": "xm4hsR-LNFWl"
      }
    },
    {
      "cell_type": "code",
      "execution_count": null,
      "metadata": {
        "id": "vlgaDNOoKaAt",
        "colab": {
          "base_uri": "https://localhost:8080/"
        },
        "outputId": "273c0515-77e8-48d3-f33a-71ebbcd7603b"
      },
      "outputs": [
        {
          "output_type": "stream",
          "name": "stdout",
          "text": [
            "1. First 5 rows of the dataset: \n",
            "   MODELYEAR   MAKE       MODEL VEHICLECLASS  ENGINESIZE  CYLINDERS  \\\n",
            "0       2014  ACURA         ILX      COMPACT         2.0          4   \n",
            "1       2014  ACURA         ILX      COMPACT         2.4          4   \n",
            "2       2014  ACURA  ILX HYBRID      COMPACT         1.5          4   \n",
            "3       2014  ACURA     MDX 4WD  SUV - SMALL         3.5          6   \n",
            "4       2014  ACURA     RDX AWD  SUV - SMALL         3.5          6   \n",
            "\n",
            "  TRANSMISSION FUELTYPE  FUELCONSUMPTION_CITY  FUELCONSUMPTION_HWY  \\\n",
            "0          AS5        Z                   9.9                  6.7   \n",
            "1           M6        Z                  11.2                  7.7   \n",
            "2          AV7        Z                   6.0                  5.8   \n",
            "3          AS6        Z                  12.7                  9.1   \n",
            "4          AS6        Z                  12.1                  8.7   \n",
            "\n",
            "   FUELCONSUMPTION_COMB  FUELCONSUMPTION_COMB_MPG  CO2EMISSIONS  \n",
            "0                   8.5                        33           196  \n",
            "1                   9.6                        29           221  \n",
            "2                   5.9                        48           136  \n",
            "3                  11.1                        25           255  \n",
            "4                  10.6                        27           244  \n",
            "\n",
            "2. Column names:\n",
            "['MODELYEAR', 'MAKE', 'MODEL', 'VEHICLECLASS', 'ENGINESIZE', 'CYLINDERS', 'TRANSMISSION', 'FUELTYPE', 'FUELCONSUMPTION_CITY', 'FUELCONSUMPTION_HWY', 'FUELCONSUMPTION_COMB', 'FUELCONSUMPTION_COMB_MPG', 'CO2EMISSIONS']\n",
            "\n",
            "3. Shape of the dataset (rows, columns): (1067, 13)\n",
            "\n",
            "4. Data Types:\n",
            "MODELYEAR                     int64\n",
            "MAKE                         object\n",
            "MODEL                        object\n",
            "VEHICLECLASS                 object\n",
            "ENGINESIZE                  float64\n",
            "CYLINDERS                     int64\n",
            "TRANSMISSION                 object\n",
            "FUELTYPE                     object\n",
            "FUELCONSUMPTION_CITY        float64\n",
            "FUELCONSUMPTION_HWY         float64\n",
            "FUELCONSUMPTION_COMB        float64\n",
            "FUELCONSUMPTION_COMB_MPG      int64\n",
            "CO2EMISSIONS                  int64\n",
            "dtype: object\n",
            "\n",
            "5. Summary Statistics - info():\n",
            "<class 'pandas.core.frame.DataFrame'>\n",
            "RangeIndex: 1067 entries, 0 to 1066\n",
            "Data columns (total 13 columns):\n",
            " #   Column                    Non-Null Count  Dtype  \n",
            "---  ------                    --------------  -----  \n",
            " 0   MODELYEAR                 1067 non-null   int64  \n",
            " 1   MAKE                      1067 non-null   object \n",
            " 2   MODEL                     1067 non-null   object \n",
            " 3   VEHICLECLASS              1067 non-null   object \n",
            " 4   ENGINESIZE                1067 non-null   float64\n",
            " 5   CYLINDERS                 1067 non-null   int64  \n",
            " 6   TRANSMISSION              1067 non-null   object \n",
            " 7   FUELTYPE                  1067 non-null   object \n",
            " 8   FUELCONSUMPTION_CITY      1067 non-null   float64\n",
            " 9   FUELCONSUMPTION_HWY       1067 non-null   float64\n",
            " 10  FUELCONSUMPTION_COMB      1067 non-null   float64\n",
            " 11  FUELCONSUMPTION_COMB_MPG  1067 non-null   int64  \n",
            " 12  CO2EMISSIONS              1067 non-null   int64  \n",
            "dtypes: float64(4), int64(4), object(5)\n",
            "memory usage: 108.5+ KB\n",
            "None\n",
            "\n",
            "6. Summary Statistics - describe():\n",
            "        MODELYEAR  MAKE         MODEL VEHICLECLASS   ENGINESIZE    CYLINDERS  \\\n",
            "count      1067.0  1067          1067         1067  1067.000000  1067.000000   \n",
            "unique        NaN    39           663           16          NaN          NaN   \n",
            "top           NaN  FORD  F150 FFV 4X4     MID-SIZE          NaN          NaN   \n",
            "freq          NaN    90             8          178          NaN          NaN   \n",
            "mean       2014.0   NaN           NaN          NaN     3.346298     5.794752   \n",
            "std           0.0   NaN           NaN          NaN     1.415895     1.797447   \n",
            "min        2014.0   NaN           NaN          NaN     1.000000     3.000000   \n",
            "25%        2014.0   NaN           NaN          NaN     2.000000     4.000000   \n",
            "50%        2014.0   NaN           NaN          NaN     3.400000     6.000000   \n",
            "75%        2014.0   NaN           NaN          NaN     4.300000     8.000000   \n",
            "max        2014.0   NaN           NaN          NaN     8.400000    12.000000   \n",
            "\n",
            "       TRANSMISSION FUELTYPE  FUELCONSUMPTION_CITY  FUELCONSUMPTION_HWY  \\\n",
            "count          1067     1067           1067.000000          1067.000000   \n",
            "unique           22        4                   NaN                  NaN   \n",
            "top              A6        X                   NaN                  NaN   \n",
            "freq            222      514                   NaN                  NaN   \n",
            "mean            NaN      NaN             13.296532             9.474602   \n",
            "std             NaN      NaN              4.101253             2.794510   \n",
            "min             NaN      NaN              4.600000             4.900000   \n",
            "25%             NaN      NaN             10.250000             7.500000   \n",
            "50%             NaN      NaN             12.600000             8.800000   \n",
            "75%             NaN      NaN             15.550000            10.850000   \n",
            "max             NaN      NaN             30.200000            20.500000   \n",
            "\n",
            "        FUELCONSUMPTION_COMB  FUELCONSUMPTION_COMB_MPG  CO2EMISSIONS  \n",
            "count            1067.000000               1067.000000   1067.000000  \n",
            "unique                   NaN                       NaN           NaN  \n",
            "top                      NaN                       NaN           NaN  \n",
            "freq                     NaN                       NaN           NaN  \n",
            "mean               11.580881                 26.441425    256.228679  \n",
            "std                 3.485595                  7.468702     63.372304  \n",
            "min                 4.700000                 11.000000    108.000000  \n",
            "25%                 9.000000                 21.000000    207.000000  \n",
            "50%                10.900000                 26.000000    251.000000  \n",
            "75%                13.350000                 31.000000    294.000000  \n",
            "max                25.800000                 60.000000    488.000000  \n",
            "\n",
            "7. Missing values in Each Column:\n",
            "MODELYEAR                   0\n",
            "MAKE                        0\n",
            "MODEL                       0\n",
            "VEHICLECLASS                0\n",
            "ENGINESIZE                  0\n",
            "CYLINDERS                   0\n",
            "TRANSMISSION                0\n",
            "FUELTYPE                    0\n",
            "FUELCONSUMPTION_CITY        0\n",
            "FUELCONSUMPTION_HWY         0\n",
            "FUELCONSUMPTION_COMB        0\n",
            "FUELCONSUMPTION_COMB_MPG    0\n",
            "CO2EMISSIONS                0\n",
            "dtype: int64\n"
          ]
        }
      ],
      "source": [
        "# Step 1 : Import the required library\n",
        "import pandas as pd\n",
        "\n",
        "# Step 2 : Load the dataset from a csv file\n",
        "# Ensure the FuelConsumption(2).csv is in the same directory as this Python\n",
        "df = pd.read_csv(\"FuelConsumption (2).csv\")\n",
        "# df = pd.read_csv(\"/content/FuelConsumption (2).csv\") --> use this when the above line fails\n",
        "\n",
        "# Step 3 : Display the first 5 rows\n",
        "print(f\"1. First 5 rows of the dataset: \\n{df.head()}\")\n",
        "\n",
        "# Step 4 : Display column names\n",
        "print(\"\\n2. Column names:\")\n",
        "print(df.columns.tolist())\n",
        "\n",
        "# Step 5 : Display the shape of the dataset\n",
        "print(\"\\n3. Shape of the dataset (rows, columns):\", df.shape)\n",
        "\n",
        "# Step 6 : Display data types of each column\n",
        "print(\"\\n4. Data Types:\")\n",
        "print(df.dtypes)\n",
        "\n",
        "# Step 8 : Display summary statistics\n",
        "print(\"\\n5. Summary Statistics - info():\")\n",
        "print(df.info())\n",
        "\n",
        "print(\"\\n6. Summary Statistics - describe():\")\n",
        "print(df.describe(include=\"all\"))\n",
        "\n",
        "# Step 8 : Display count of missing values\n",
        "print(\"\\n7. Missing values in Each Column:\")\n",
        "print(df.isnull().sum())"
      ]
    },
    {
      "cell_type": "markdown",
      "source": [
        "## Program for doing forward fill and backward fill"
      ],
      "metadata": {
        "id": "6FevV2NQV6uu"
      }
    },
    {
      "cell_type": "code",
      "source": [
        "# Forward Fill\n",
        "df_ffill = df.copy()\n",
        "df_ffill['FUELCONSUMPTION_CITY'] = df_ffill['FUELCONSUMPTION_CITY'].fillna(method='ffill')\n",
        "print(\"Missing values after forward fill: \")\n",
        "print(df_ffill.isnull().sum())"
      ],
      "metadata": {
        "id": "9TZIk5t4SW7s",
        "colab": {
          "base_uri": "https://localhost:8080/"
        },
        "outputId": "bb6d94b9-48bc-46a5-fca7-1f7e77a71324"
      },
      "execution_count": null,
      "outputs": [
        {
          "output_type": "stream",
          "name": "stdout",
          "text": [
            "Missing values after forward fill: \n",
            "MODELYEAR                   0\n",
            "MAKE                        0\n",
            "MODEL                       0\n",
            "VEHICLECLASS                0\n",
            "ENGINESIZE                  0\n",
            "CYLINDERS                   0\n",
            "TRANSMISSION                0\n",
            "FUELTYPE                    0\n",
            "FUELCONSUMPTION_CITY        0\n",
            "FUELCONSUMPTION_HWY         0\n",
            "FUELCONSUMPTION_COMB        0\n",
            "FUELCONSUMPTION_COMB_MPG    0\n",
            "CO2EMISSIONS                0\n",
            "dtype: int64\n"
          ]
        },
        {
          "output_type": "stream",
          "name": "stderr",
          "text": [
            "/tmp/ipython-input-4197912167.py:3: FutureWarning: Series.fillna with 'method' is deprecated and will raise in a future version. Use obj.ffill() or obj.bfill() instead.\n",
            "  df_ffill['FUELCONSUMPTION_CITY'] = df_ffill['FUELCONSUMPTION_CITY'].fillna(method='ffill')\n"
          ]
        }
      ]
    },
    {
      "cell_type": "code",
      "source": [
        "# Backward Fill\n",
        "# df_bfill = df.copy()\n",
        "# df_bfill['FUELCONSUMPTION_CITY'] = df_bfill['FUELCONSUMPTION_CITY'].fillna(method='bfill')\n",
        "# print(\"Missing values after backward fill: \")\n",
        "# print(df_bfill.isnull().sum())"
      ],
      "metadata": {
        "id": "PKG_qPt9Ohyt"
      },
      "execution_count": null,
      "outputs": []
    },
    {
      "cell_type": "markdown",
      "source": [
        "## Conversion of text data into numerical data using label encoder"
      ],
      "metadata": {
        "id": "3rLPm3FDVgsa"
      }
    },
    {
      "cell_type": "code",
      "source": [
        "!pip install scikit-learn"
      ],
      "metadata": {
        "colab": {
          "base_uri": "https://localhost:8080/"
        },
        "id": "izpkYt3DXTDM",
        "outputId": "b95fd0bb-108f-472f-8caa-128388213be7"
      },
      "execution_count": 15,
      "outputs": [
        {
          "output_type": "stream",
          "name": "stdout",
          "text": [
            "Requirement already satisfied: scikit-learn in /usr/local/lib/python3.11/dist-packages (1.6.1)\n",
            "Requirement already satisfied: numpy>=1.19.5 in /usr/local/lib/python3.11/dist-packages (from scikit-learn) (2.0.2)\n",
            "Requirement already satisfied: scipy>=1.6.0 in /usr/local/lib/python3.11/dist-packages (from scikit-learn) (1.16.0)\n",
            "Requirement already satisfied: joblib>=1.2.0 in /usr/local/lib/python3.11/dist-packages (from scikit-learn) (1.5.1)\n",
            "Requirement already satisfied: threadpoolctl>=3.1.0 in /usr/local/lib/python3.11/dist-packages (from scikit-learn) (3.6.0)\n"
          ]
        }
      ]
    },
    {
      "cell_type": "code",
      "source": [
        "import pandas as pd\n",
        "from sklearn.preprocessing import LabelEncoder\n",
        "\n",
        "df_encoded = df.copy()\n",
        "le = LabelEncoder()\n",
        "df_encoded['VEHICLECLASS'] = le.fit_transform(df_encoded['VEHICLECLASS'])\n",
        "\n",
        "print(df_encoded[['VEHICLECLASS']])\n",
        "print(df_encoded[['VEHICLECLASS']].drop_duplicates())"
      ],
      "metadata": {
        "colab": {
          "base_uri": "https://localhost:8080/"
        },
        "id": "vl86C9WZVdaC",
        "outputId": "d678c20d-04c1-46ba-d7a7-226c5331b057"
      },
      "execution_count": 20,
      "outputs": [
        {
          "output_type": "stream",
          "name": "stdout",
          "text": [
            "      VEHICLECLASS\n",
            "0                0\n",
            "1                0\n",
            "2                0\n",
            "3               11\n",
            "4               11\n",
            "...            ...\n",
            "1062            11\n",
            "1063            11\n",
            "1064            11\n",
            "1065            11\n",
            "1066            12\n",
            "\n",
            "[1067 rows x 1 columns]\n",
            "     VEHICLECLASS\n",
            "0               0\n",
            "3              11\n",
            "5               2\n",
            "12              3\n",
            "13             10\n",
            "14             13\n",
            "33              1\n",
            "37              9\n",
            "42             12\n",
            "210            14\n",
            "219            15\n",
            "237             6\n",
            "291             4\n",
            "428             7\n",
            "618             8\n",
            "839             5\n"
          ]
        }
      ]
    },
    {
      "cell_type": "code",
      "source": [],
      "metadata": {
        "id": "IufBnr9JXOq-"
      },
      "execution_count": null,
      "outputs": []
    }
  ]
}